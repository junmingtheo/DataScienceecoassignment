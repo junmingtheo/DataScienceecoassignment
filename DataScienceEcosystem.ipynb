{
 "cells": [
  {
   "cell_type": "markdown",
   "id": "704ccdc9",
   "metadata": {},
   "source": [
    "# Data Science Tools and Ecosystem"
   ]
  },
  {
   "cell_type": "markdown",
   "id": "4a614b75",
   "metadata": {},
   "source": [
    "In this notebook, Data Science Tools and Ecosystem are summarized."
   ]
  },
  {
   "cell_type": "markdown",
   "id": "cca36439",
   "metadata": {},
   "source": [
    "- popular and useful programming languages used in data science\n",
    "- popular and useful libraries used in data science\n",
    "- popular and useful IDE used in data science\n",
    "- creating normal text in jupyter notebook\n",
    "- creating table in jupyter notebook"
   ]
  },
  {
   "cell_type": "markdown",
   "id": "7d52b536",
   "metadata": {},
   "source": [
    "Some of the popular languages that Data Scientists use are:"
   ]
  },
  {
   "cell_type": "markdown",
   "id": "508783dd",
   "metadata": {},
   "source": [
    "1. python\n",
    "2. SQL\n",
    "3. java\n",
    "4. julia\n",
    "5. R \n",
    "6. scala"
   ]
  },
  {
   "cell_type": "markdown",
   "id": "3993abb7",
   "metadata": {},
   "source": [
    "Some of the commonly used libraries used by Data Scientists include:"
   ]
  },
  {
   "cell_type": "markdown",
   "id": "e062675f",
   "metadata": {},
   "source": [
    "1. numpy\n",
    "2. pandas\n",
    "3. seaborn\n",
    "4. tensorflow\n",
    "5. pytorch\n",
    "6. matplotlib\n",
    "7. scikit-learn\n",
    "8. scipy\n",
    "9. NLTK"
   ]
  },
  {
   "cell_type": "markdown",
   "id": "c936b449",
   "metadata": {},
   "source": [
    "|Data Science Tools|\n",
    "|--------|\n",
    "|Jupyterlab|\n",
    "|Rstudio|\n",
    "|spyder|"
   ]
  },
  {
   "cell_type": "markdown",
   "id": "1940c721",
   "metadata": {},
   "source": [
    "### Below are a few examples of evaluating arithmetic expressions in Python"
   ]
  },
  {
   "cell_type": "code",
   "execution_count": 6,
   "id": "8a27ea43",
   "metadata": {},
   "outputs": [
    {
     "name": "stdout",
     "output_type": "stream",
     "text": [
      "(3*4)+5 = 17\n"
     ]
    }
   ],
   "source": [
    "print(\"(3*4)+5 =\", (3*4)+5)\n",
    "#This a simple arithmetic expression to mutiply then add integers"
   ]
  },
  {
   "cell_type": "code",
   "execution_count": 8,
   "id": "5174da0b",
   "metadata": {},
   "outputs": [
    {
     "name": "stdout",
     "output_type": "stream",
     "text": [
      "200mins is 3.3333333333333335 hrs\n"
     ]
    }
   ],
   "source": [
    "print(\"200mins is\", 200/60, \"hrs\")\n",
    "#This will convert 200 minutes to hours by diving by 60"
   ]
  },
  {
   "cell_type": "markdown",
   "id": "b17d9f46",
   "metadata": {},
   "source": [
    "## Author\n",
    " Lee Jun Ming"
   ]
  }
 ],
 "metadata": {
  "kernelspec": {
   "display_name": "Python 3 (ipykernel)",
   "language": "python",
   "name": "python3"
  },
  "language_info": {
   "codemirror_mode": {
    "name": "ipython",
    "version": 3
   },
   "file_extension": ".py",
   "mimetype": "text/x-python",
   "name": "python",
   "nbconvert_exporter": "python",
   "pygments_lexer": "ipython3",
   "version": "3.11.3"
  }
 },
 "nbformat": 4,
 "nbformat_minor": 5
}
